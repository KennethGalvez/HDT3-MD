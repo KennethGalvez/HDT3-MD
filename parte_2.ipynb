{
 "cells": [
  {
   "cell_type": "code",
   "execution_count": 71,
   "metadata": {},
   "outputs": [],
   "source": [
    "import pandas as pd\n",
    "from sklearn.model_selection import train_test_split\n",
    "from sklearn.linear_model import LogisticRegression\n",
    "from sklearn.neighbors import KNeighborsClassifier\n",
    "from sklearn.metrics import accuracy_score, confusion_matrix,  classification_report"
   ]
  },
  {
   "cell_type": "code",
   "execution_count": 72,
   "metadata": {},
   "outputs": [],
   "source": [
    "data = pd.read_csv('wine_fraud_limpio.csv')\n",
    "\n",
    "#se prepara la data\n",
    "X = data.drop(['quality', 'type'], axis=1)\n",
    "y = data['quality']\n",
    "\n",
    "X_train, X_test, y_train, y_test = train_test_split(X, y, test_size=0.3, random_state=42)\n"
   ]
  },
  {
   "attachments": {},
   "cell_type": "markdown",
   "metadata": {},
   "source": [
    "Se crea un modelo de clasificacion con regresion logistica"
   ]
  },
  {
   "cell_type": "code",
   "execution_count": 79,
   "metadata": {},
   "outputs": [
    {
     "name": "stdout",
     "output_type": "stream",
     "text": [
      "Precisión del modelo de regresión logística: 0.9548872180451128\n"
     ]
    },
    {
     "name": "stderr",
     "output_type": "stream",
     "text": [
      "C:\\Users\\rebec\\AppData\\Local\\Packages\\PythonSoftwareFoundation.Python.3.11_qbz5n2kfra8p0\\LocalCache\\local-packages\\Python311\\site-packages\\sklearn\\metrics\\_classification.py:1344: UndefinedMetricWarning: Precision and F-score are ill-defined and being set to 0.0 in labels with no predicted samples. Use `zero_division` parameter to control this behavior.\n",
      "  _warn_prf(average, modifier, msg_start, len(result))\n",
      "C:\\Users\\rebec\\AppData\\Local\\Packages\\PythonSoftwareFoundation.Python.3.11_qbz5n2kfra8p0\\LocalCache\\local-packages\\Python311\\site-packages\\sklearn\\metrics\\_classification.py:1344: UndefinedMetricWarning: Precision and F-score are ill-defined and being set to 0.0 in labels with no predicted samples. Use `zero_division` parameter to control this behavior.\n",
      "  _warn_prf(average, modifier, msg_start, len(result))\n",
      "C:\\Users\\rebec\\AppData\\Local\\Packages\\PythonSoftwareFoundation.Python.3.11_qbz5n2kfra8p0\\LocalCache\\local-packages\\Python311\\site-packages\\sklearn\\metrics\\_classification.py:1344: UndefinedMetricWarning: Precision and F-score are ill-defined and being set to 0.0 in labels with no predicted samples. Use `zero_division` parameter to control this behavior.\n",
      "  _warn_prf(average, modifier, msg_start, len(result))\n"
     ]
    }
   ],
   "source": [
    "# Modelo de Regresión Logística\n",
    "lr = LogisticRegression()\n",
    "lr.fit(X_train, y_train)\n",
    "lr_pred = lr.predict(X_test)\n",
    "lr_accuracy = accuracy_score(y_test, lr_pred)\n",
    "lr_cm = confusion_matrix(y_test, lr_pred)\n",
    "lr_report = classification_report(y_test, lr_pred)\n",
    "\n",
    "# Resultado \n",
    "lr_accuracy_score = lr.score(X_test, y_test)\n",
    "print(\"Precisión del modelo de regresión logística:\", lr_accuracy_score)\n",
    "\n"
   ]
  },
  {
   "attachments": {},
   "cell_type": "markdown",
   "metadata": {},
   "source": [
    "Modelo K-NN"
   ]
  },
  {
   "cell_type": "code",
   "execution_count": 74,
   "metadata": {},
   "outputs": [],
   "source": [
    "# Modelo K-NN\n",
    "knn = KNeighborsClassifier(n_neighbors=5)\n",
    "knn.fit(X_train, y_train)\n",
    "knn_pred = knn.predict(X_test)\n",
    "knn_accuracy = accuracy_score(y_test, knn_pred)\n",
    "knn_cm = confusion_matrix(y_test, knn_pred)\n",
    "knn_report = classification_report(y_test, knn_pred)"
   ]
  },
  {
   "cell_type": "code",
   "execution_count": 75,
   "metadata": {},
   "outputs": [
    {
     "name": "stdout",
     "output_type": "stream",
     "text": [
      "Precisión del modelo de regresión logística: 0.9536340852130326\n"
     ]
    }
   ],
   "source": [
    "# Resultado \n",
    "accuracy = knn.score(X_test, y_test)\n",
    "print(\"Precisión del modelo de regresión logística:\", accuracy)"
   ]
  },
  {
   "attachments": {},
   "cell_type": "markdown",
   "metadata": {},
   "source": [
    "Se crea un modelo de clasificacion con un arbol de desicion\n"
   ]
  },
  {
   "cell_type": "code",
   "execution_count": 76,
   "metadata": {},
   "outputs": [
    {
     "name": "stdout",
     "output_type": "stream",
     "text": [
      "Precisión del modelo de árbol de decisión: 0.924812030075188\n"
     ]
    }
   ],
   "source": [
    "from sklearn.tree import DecisionTreeClassifier\n",
    "\n",
    "# Crear un modelo de árbol de decisión y entrenarlo con los datos de entrenamiento\n",
    "decision_tree = DecisionTreeClassifier()\n",
    "decision_tree.fit(X_train, y_train)\n",
    "\n",
    "# Utilizar el modelo para hacer predicciones sobre los datos de prueba\n",
    "y_pred = decision_tree.predict(X_test)\n",
    "\n",
    "AD_pred = decision_tree.predict(X_test)\n",
    "\n",
    "AD_report = classification_report(y_test,AD_pred)\n",
    "\n",
    "\n",
    "AD_cm = confusion_matrix(y_test, AD_pred)\n",
    "\n",
    "# Evaluar la precisión del modelo\n",
    "AD_accuracy = decision_tree.score(X_test, y_test)\n",
    "print(\"Precisión del modelo de árbol de decisión:\", AD_accuracy)"
   ]
  },
  {
   "attachments": {},
   "cell_type": "markdown",
   "metadata": {},
   "source": [
    "Resultados de los modelos"
   ]
  },
  {
   "cell_type": "code",
   "execution_count": 77,
   "metadata": {},
   "outputs": [
    {
     "name": "stdout",
     "output_type": "stream",
     "text": [
      "Matriz de confusión - Regresión Logística:\n",
      "[[   0   72]\n",
      " [   0 1524]]\n",
      "Precisión: 1.00\n",
      "Métricas adicionales:\n",
      "               precision    recall  f1-score   support\n",
      "\n",
      "       Fraud       0.00      0.00      0.00        72\n",
      "       Legit       0.95      1.00      0.98      1524\n",
      "\n",
      "    accuracy                           0.95      1596\n",
      "   macro avg       0.48      0.50      0.49      1596\n",
      "weighted avg       0.91      0.95      0.93      1596\n",
      "\n",
      "Matriz de confusión - K-NN:\n",
      "[[   3   69]\n",
      " [   5 1519]]\n",
      "Precisión: 0.95\n",
      "Métricas adicionales:\n",
      "               precision    recall  f1-score   support\n",
      "\n",
      "       Fraud       0.38      0.04      0.07        72\n",
      "       Legit       0.96      1.00      0.98      1524\n",
      "\n",
      "    accuracy                           0.95      1596\n",
      "   macro avg       0.67      0.52      0.53      1596\n",
      "weighted avg       0.93      0.95      0.94      1596\n",
      "\n",
      "Matriz de confusión - Arbol de desicion:\n",
      "[[  15   57]\n",
      " [  63 1461]]\n",
      "Precisión: 0.92\n",
      "Métricas adicionales:\n",
      "               precision    recall  f1-score   support\n",
      "\n",
      "       Fraud       0.19      0.21      0.20        72\n",
      "       Legit       0.96      0.96      0.96      1524\n",
      "\n",
      "    accuracy                           0.92      1596\n",
      "   macro avg       0.58      0.58      0.58      1596\n",
      "weighted avg       0.93      0.92      0.93      1596\n",
      "\n"
     ]
    }
   ],
   "source": [
    "# Resultado de los modelos: Matrices de confusión, precisión, etc\n",
    "print(\"Matriz de confusión - Regresión Logística:\")\n",
    "print(lr_cm)\n",
    "print(\"Precisión: {:.2f}\".format(lr_accuracy_score))\n",
    "print(\"Métricas adicionales:\\n\", lr_report)\n",
    "\n",
    "print(\"Matriz de confusión - K-NN:\")\n",
    "print(knn_cm)\n",
    "print(\"Precisión: {:.2f}\".format(knn_accuracy))\n",
    "print(\"Métricas adicionales:\\n\", knn_report)\n",
    "\n",
    "print(\"Matriz de confusión - Arbol de desicion:\")\n",
    "print(AD_cm)\n",
    "print(\"Precisión: {:.2f}\".format(AD_accuracy))\n",
    "print(\"Métricas adicionales:\\n\", AD_report)"
   ]
  }
 ],
 "metadata": {
  "kernelspec": {
   "display_name": "Python 3",
   "language": "python",
   "name": "python3"
  },
  "language_info": {
   "codemirror_mode": {
    "name": "ipython",
    "version": 3
   },
   "file_extension": ".py",
   "mimetype": "text/x-python",
   "name": "python",
   "nbconvert_exporter": "python",
   "pygments_lexer": "ipython3",
   "version": "3.11.2"
  },
  "orig_nbformat": 4
 },
 "nbformat": 4,
 "nbformat_minor": 2
}
